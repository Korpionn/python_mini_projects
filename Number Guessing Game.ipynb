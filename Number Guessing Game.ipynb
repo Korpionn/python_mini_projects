{
 "cells": [
  {
   "cell_type": "code",
   "execution_count": 3,
   "id": "d18b56e2",
   "metadata": {},
   "outputs": [],
   "source": [
    "import random"
   ]
  },
  {
   "cell_type": "code",
   "execution_count": 4,
   "id": "f9715117",
   "metadata": {},
   "outputs": [
    {
     "name": "stdout",
     "output_type": "stream",
     "text": [
      "Enter any number: 2\n",
      "Too Low\n",
      "Enter any number: 5\n",
      "Too Low\n",
      "Enter any number: 10\n",
      "Too High\n",
      "Enter any number: 3\n",
      "Too Low\n",
      "Enter any number: 8\n",
      "Too High\n",
      "Enter any number: 7\n",
      "Too High\n",
      "Enter any number: 6\n",
      "You guessed it right!!\n"
     ]
    }
   ],
   "source": [
    "n = random.randint(1,10)\n",
    "\n",
    "guess = int(input(\"Enter any number: \"))\n",
    "\n",
    "while n!= guess:\n",
    "    if guess < n:\n",
    "        print(\"Too Low\")\n",
    "        guess = int(input(\"Enter any number: \"))\n",
    "    elif guess > n:\n",
    "        print(\"Too High\")\n",
    "        guess = int(input(\"Enter any number: \"))\n",
    "    else:\n",
    "        break\n",
    "print(\"You guessed it right!!\")\n",
    "        "
   ]
  },
  {
   "cell_type": "code",
   "execution_count": null,
   "id": "1eea8eda",
   "metadata": {},
   "outputs": [],
   "source": []
  }
 ],
 "metadata": {
  "kernelspec": {
   "display_name": "Python 3 (ipykernel)",
   "language": "python",
   "name": "python3"
  },
  "language_info": {
   "codemirror_mode": {
    "name": "ipython",
    "version": 3
   },
   "file_extension": ".py",
   "mimetype": "text/x-python",
   "name": "python",
   "nbconvert_exporter": "python",
   "pygments_lexer": "ipython3",
   "version": "3.10.9"
  }
 },
 "nbformat": 4,
 "nbformat_minor": 5
}
