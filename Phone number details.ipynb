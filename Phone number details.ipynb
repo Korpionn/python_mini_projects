{
 "cells": [
  {
   "cell_type": "code",
   "execution_count": 2,
   "id": "c9de3be4",
   "metadata": {},
   "outputs": [
    {
     "name": "stdout",
     "output_type": "stream",
     "text": [
      "Collecting phonenumbersNote: you may need to restart the kernel to use updated packages.\n",
      "\n",
      "  Downloading phonenumbers-8.13.24-py2.py3-none-any.whl (2.6 MB)\n",
      "     ---------------------------------------- 2.6/2.6 MB 4.1 MB/s eta 0:00:00\n",
      "Installing collected packages: phonenumbers\n",
      "Successfully installed phonenumbers-8.13.24\n"
     ]
    }
   ],
   "source": [
    "pip install phonenumbers"
   ]
  },
  {
   "cell_type": "code",
   "execution_count": 2,
   "id": "737aa97e",
   "metadata": {},
   "outputs": [],
   "source": [
    "import phonenumbers as pn"
   ]
  },
  {
   "cell_type": "code",
   "execution_count": 3,
   "id": "9f6798bb",
   "metadata": {},
   "outputs": [],
   "source": [
    "from phonenumbers import timezone, geocoder, carrier"
   ]
  },
  {
   "cell_type": "code",
   "execution_count": 5,
   "id": "2292e7d6",
   "metadata": {},
   "outputs": [
    {
     "name": "stdout",
     "output_type": "stream",
     "text": [
      "Enter your number with +__: + 91 9870658182\n",
      "Country Code: 91 National Number: 9870658182\n",
      "('Asia/Calcutta',)\n",
      "Reliance Jio\n",
      "India\n"
     ]
    }
   ],
   "source": [
    "number = input(\"Enter your number with +__: \")\n",
    "phone = pn.parse(number)\n",
    "time = timezone.time_zones_for_number(phone)\n",
    "car = carrier.name_for_number(phone, \"en\")\n",
    "reg = geocoder.description_for_number(phone, \"en\")\n",
    "print(phone)\n",
    "print(time)\n",
    "print(car)\n",
    "print(reg)"
   ]
  },
  {
   "cell_type": "code",
   "execution_count": null,
   "id": "e0f0ff00",
   "metadata": {},
   "outputs": [],
   "source": []
  }
 ],
 "metadata": {
  "kernelspec": {
   "display_name": "Python 3 (ipykernel)",
   "language": "python",
   "name": "python3"
  },
  "language_info": {
   "codemirror_mode": {
    "name": "ipython",
    "version": 3
   },
   "file_extension": ".py",
   "mimetype": "text/x-python",
   "name": "python",
   "nbconvert_exporter": "python",
   "pygments_lexer": "ipython3",
   "version": "3.10.9"
  }
 },
 "nbformat": 4,
 "nbformat_minor": 5
}
