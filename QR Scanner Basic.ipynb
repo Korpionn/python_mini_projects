{
 "cells": [
  {
   "cell_type": "code",
   "execution_count": 2,
   "id": "05c35a0e",
   "metadata": {},
   "outputs": [
    {
     "name": "stdout",
     "output_type": "stream",
     "text": [
      "Requirement already satisfied: qrcode in c:\\users\\kamran\\anaconda3\\lib\\site-packages (7.4.2)Note: you may need to restart the kernel to use updated packages.\n",
      "\n",
      "Requirement already satisfied: pypng in c:\\users\\kamran\\anaconda3\\lib\\site-packages (from qrcode) (0.20220715.0)\n",
      "Requirement already satisfied: typing-extensions in c:\\users\\kamran\\anaconda3\\lib\\site-packages (from qrcode) (4.4.0)\n",
      "Requirement already satisfied: colorama in c:\\users\\kamran\\anaconda3\\lib\\site-packages (from qrcode) (0.4.6)\n"
     ]
    }
   ],
   "source": [
    "pip install qrcode"
   ]
  },
  {
   "cell_type": "code",
   "execution_count": 4,
   "id": "73601236",
   "metadata": {},
   "outputs": [],
   "source": [
    "import qrcode as qr"
   ]
  },
  {
   "cell_type": "code",
   "execution_count": 5,
   "id": "43330d59",
   "metadata": {},
   "outputs": [],
   "source": [
    "image = qr.make(\"https://sites.google.com/view/kamyfolio/home\")"
   ]
  },
  {
   "cell_type": "code",
   "execution_count": 6,
   "id": "cd9fb380",
   "metadata": {},
   "outputs": [],
   "source": [
    "image.save(\"folio_ds.png\")"
   ]
  },
  {
   "cell_type": "code",
   "execution_count": null,
   "id": "10dcd46c",
   "metadata": {},
   "outputs": [],
   "source": []
  }
 ],
 "metadata": {
  "kernelspec": {
   "display_name": "Python 3 (ipykernel)",
   "language": "python",
   "name": "python3"
  },
  "language_info": {
   "codemirror_mode": {
    "name": "ipython",
    "version": 3
   },
   "file_extension": ".py",
   "mimetype": "text/x-python",
   "name": "python",
   "nbconvert_exporter": "python",
   "pygments_lexer": "ipython3",
   "version": "3.10.9"
  }
 },
 "nbformat": 4,
 "nbformat_minor": 5
}
