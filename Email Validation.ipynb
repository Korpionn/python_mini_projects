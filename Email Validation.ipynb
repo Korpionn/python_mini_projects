{
 "cells": [
  {
   "cell_type": "code",
   "execution_count": null,
   "id": "43a16409",
   "metadata": {},
   "outputs": [],
   "source": [
    "email = input(\"Enter your email: \")\n",
    "k,j,d = 0,0,0\n",
    "\n",
    "if len(email) >=6: #should be minimum 6 character\n",
    "    if email[0].isalpha(): # First Character should now be a number\n",
    "        if (\"@\" in email) and (email.count(\"@\") == 1):  # only 1 '@' should be present in a mail ID\n",
    "            if (email[-4]=='.') ^ (email[-3]=='.'): # '.' should be there in an email ID\n",
    "                for i in email:\n",
    "                    if i == i.isspace():\n",
    "                        k=1\n",
    "                    elif i.isalpha():\n",
    "                        if i == i.upper():\n",
    "                            j = 1\n",
    "                    elif i.isdigit():\n",
    "                        continue\n",
    "                    elif i == \"_\" or i == \".\" or i == \"@\":\n",
    "                        continue\n",
    "                    else:\n",
    "                        d = 1\n",
    "                if k == 1 or j == 1 or d == 1:\n",
    "                    print(\"Wrong Email ID 5 \")\n",
    "            else:\n",
    "                print(\"Wrong Email ID 4 \")\n",
    "        else:\n",
    "            print(\"Wrong Email ID 3 \")\n",
    "    else:\n",
    "        print(\"Wrong Email ID 2 \")\n",
    "else:\n",
    "    print(\"Wrong Email ID 1 \")"
   ]
  },
  {
   "cell_type": "code",
   "execution_count": null,
   "id": "680e6528",
   "metadata": {},
   "outputs": [],
   "source": []
  }
 ],
 "metadata": {
  "kernelspec": {
   "display_name": "Python 3 (ipykernel)",
   "language": "python",
   "name": "python3"
  },
  "language_info": {
   "codemirror_mode": {
    "name": "ipython",
    "version": 3
   },
   "file_extension": ".py",
   "mimetype": "text/x-python",
   "name": "python",
   "nbconvert_exporter": "python",
   "pygments_lexer": "ipython3",
   "version": "3.10.9"
  }
 },
 "nbformat": 4,
 "nbformat_minor": 5
}
